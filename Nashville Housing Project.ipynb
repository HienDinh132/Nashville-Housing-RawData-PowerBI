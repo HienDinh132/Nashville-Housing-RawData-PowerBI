{
 "cells": [
  {
   "cell_type": "markdown",
   "id": "c3bea305",
   "metadata": {},
   "source": [
    "# Link Raw Data Nashville Housing Project"
   ]
  },
  {
   "cell_type": "markdown",
   "id": "33c712d8",
   "metadata": {},
   "source": [
    "https://drive.google.com/file/d/1PLtaEMqoY1M-bPLERLTXFA15vjNqtJbq/view?usp=sharing"
   ]
  },
  {
   "cell_type": "markdown",
   "id": "541b6495",
   "metadata": {},
   "source": [
    "# Link Power BI Nashville Housing Project"
   ]
  },
  {
   "cell_type": "markdown",
   "id": "12aafc30",
   "metadata": {},
   "source": [
    "https://app.powerbi.com/view?r=eyJrIjoiYjM3OTdiOTAtNjNlOC00MTJmLWEyZmYtMzI5NjMyMzRlMTJkIiwidCI6ImFmMWYzNzUzLTM5MjUtNGU2Zi05NDliLTk3YzAwNzMyMDgwMyIsImMiOjEwfQ%3D%3D"
   ]
  }
 ],
 "metadata": {
  "kernelspec": {
   "display_name": "Python 3 (ipykernel)",
   "language": "python",
   "name": "python3"
  },
  "language_info": {
   "codemirror_mode": {
    "name": "ipython",
    "version": 3
   },
   "file_extension": ".py",
   "mimetype": "text/x-python",
   "name": "python",
   "nbconvert_exporter": "python",
   "pygments_lexer": "ipython3",
   "version": "3.9.13"
  }
 },
 "nbformat": 4,
 "nbformat_minor": 5
}
